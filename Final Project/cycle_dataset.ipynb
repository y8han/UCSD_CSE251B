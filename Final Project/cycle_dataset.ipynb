{
 "cells": [
  {
   "cell_type": "code",
   "execution_count": 49,
   "metadata": {},
   "outputs": [],
   "source": [
    "import torch\n",
    "import torchvision.transforms as transforms\n",
    "import torch.utils.data as data\n",
    "import os\n",
    "import random\n",
    "import numpy as np\n",
    "from PIL import Image\n",
    "\n",
    "\n",
    "IMG_EXTENSIONS = [\n",
    "    '.jpg', '.JPG', '.jpeg', '.JPEG',\n",
    "    '.png', '.PNG', '.ppm', '.PPM', '.bmp', '.BMP',\n",
    "    '.tif', '.TIF', '.tiff', '.TIFF',\n",
    "]\n",
    "\n",
    "\n",
    "class CycleDataset(data.Dataset):\n",
    "    \n",
    "    def is_image_file(self, fname):\n",
    "        return any(fname.endswith(extension) for extension in IMG_EXTENSIONS)\n",
    "    def generate_index(self, path):\n",
    "        images = []\n",
    "        assert os.path.isdir(path)\n",
    "        for root, _, fnames in sorted(os.walk(path)):\n",
    "            for fname in fnames:\n",
    "                if self.is_image_file(fname):\n",
    "                    path = os.path.join(root, fname)\n",
    "                    images.append(path)\n",
    "        return images\n",
    "    \n",
    "    def __init__(self, config, mode):\n",
    "        self.dir_A = os.path.join(config['dataset']['data_location'], mode + 'A')  # create a path '/path/to/data/trainA'\n",
    "        self.dir_B = os.path.join(config['dataset']['data_location'], mode + 'B')  # create a path '/path/to/data/trainB'\n",
    "        \n",
    "        self.A_paths = sorted(self.generate_index(self.dir_A))\n",
    "        self.B_paths = sorted(self.generate_index(self.dir_B))\n",
    "        \n",
    "        self.A_size = len(self.A_paths)\n",
    "        self.B_size = len(self.B_paths)\n",
    "        self.transform = transforms.ToTensor()\n",
    "    def __getitem__(self, index):\n",
    "        A_path = self.A_paths[index % self.A_size]\n",
    "        B_path = self.B_paths[random.randint(0, self.B_size -1)]\n",
    "        A_img = Image.open(A_path).convert('RGB')\n",
    "        A_img =self.transform(A_img)\n",
    "        B_img = Image.open(B_path).convert('RGB')\n",
    "        B_img = self.transform(B_img)\n",
    "        return {'A': A_img, 'B': B_img, 'A_path': A_path, 'B_path': B_path}\n",
    "    def __len__(self):\n",
    "        return max(self.A_size, self.B_size)"
   ]
  },
  {
   "cell_type": "code",
   "execution_count": 50,
   "metadata": {},
   "outputs": [
    {
     "name": "stdout",
     "output_type": "stream",
     "text": [
      "{'A': <PIL.Image.Image image mode=RGB size=256x256 at 0x7F6A7E7B5510>, 'B': <PIL.Image.Image image mode=RGB size=256x256 at 0x7F6A7E7B5450>, 'A_paths': 'data/trainA/n02381460_1001.jpg', 'B_paths': 'data/trainB/n02391049_544.jpg'}\n"
     ]
    }
   ],
   "source": [
    "if __name__ == \"__main__\" :\n",
    "    data = CycleDataset(config, \"train\")\n",
    "    print(data[0])"
   ]
  },
  {
   "cell_type": "code",
   "execution_count": null,
   "metadata": {},
   "outputs": [],
   "source": []
  },
  {
   "cell_type": "code",
   "execution_count": null,
   "metadata": {},
   "outputs": [],
   "source": []
  }
 ],
 "metadata": {
  "kernelspec": {
   "display_name": "Python 3 (clean)",
   "language": "python",
   "name": "python3_clean"
  },
  "language_info": {
   "codemirror_mode": {
    "name": "ipython",
    "version": 3
   },
   "file_extension": ".py",
   "mimetype": "text/x-python",
   "name": "python",
   "nbconvert_exporter": "python",
   "pygments_lexer": "ipython3",
   "version": "3.7.6"
  }
 },
 "nbformat": 4,
 "nbformat_minor": 4
}
