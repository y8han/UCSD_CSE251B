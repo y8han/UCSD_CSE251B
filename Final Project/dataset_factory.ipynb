{
 "cells": [
  {
   "cell_type": "code",
   "execution_count": 1,
   "metadata": {},
   "outputs": [],
   "source": [
    "import csv, os\n",
    "from torch.utils.data import DataLoader\n",
    "from cycle_dataset import CycleDataset\n",
    "\n",
    "def get_datasets(config_data):\n",
    "    train_dataloader = DataLoader(CycleDataset(config_data, 'train'), batch_size=config_data['experiment']['batch_size'], num_workers=config_data['experiment']['num_worker'])\n",
    "    test_dataloader = DataLoader(CycleDataset(config_data, 'test'), batch_size=config_data['experiment']['batch_size'], num_workers=config_data['experiment']['num_worker'])\n",
    "    return train_dataloader, test_dataloader"
   ]
  },
  {
   "cell_type": "code",
   "execution_count": null,
   "metadata": {},
   "outputs": [],
   "source": []
  }
 ],
 "metadata": {
  "kernelspec": {
   "display_name": "Python 3 (clean)",
   "language": "python",
   "name": "python3_clean"
  },
  "language_info": {
   "codemirror_mode": {
    "name": "ipython",
    "version": 3
   },
   "file_extension": ".py",
   "mimetype": "text/x-python",
   "name": "python",
   "nbconvert_exporter": "python",
   "pygments_lexer": "ipython3",
   "version": "3.7.6"
  }
 },
 "nbformat": 4,
 "nbformat_minor": 4
}
