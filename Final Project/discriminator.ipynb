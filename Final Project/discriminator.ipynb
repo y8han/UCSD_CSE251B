{
 "cells": [
  {
   "cell_type": "code",
   "execution_count": 20,
   "metadata": {},
   "outputs": [],
   "source": [
    "import torch\n",
    "import torch.nn as nn\n",
    "import numpy as np"
   ]
  },
  {
   "cell_type": "code",
   "execution_count": 21,
   "metadata": {},
   "outputs": [],
   "source": [
    "# custom weights initialization called on netG and netD\n",
    "def weights_init(m):\n",
    "    classname = m.__class__.__name__\n",
    "    if classname.find('Conv') != -1:\n",
    "        m.weight.data.normal_(0.0, 0.02)\n",
    "    elif classname.find('BatchNorm2d') != -1 or  classname.find('InstanceNorm2d') != -1 or classname.find('LayerNorm') != -1:\n",
    "        m.weight.data.normal_(1.0, 0.02)\n",
    "        m.bias.data.fill_(0)"
   ]
  },
  {
   "cell_type": "code",
   "execution_count": 25,
   "metadata": {},
   "outputs": [],
   "source": [
    "def define_D(input_nc, ndf,\n",
    "             n_layers_D=3, use_sigmoid=True):\n",
    "    # make sure the number of layers should be 3\n",
    "    use_gpu = torch.cuda.is_available()\n",
    "    netD = NLayerDiscriminator(input_nc, ndf, n_layers_D, use_sigmoid)\n",
    "    if use_gpu:\n",
    "        netD.cuda()\n",
    "    netD.apply(weights_init)\n",
    "    return netD"
   ]
  },
  {
   "cell_type": "code",
   "execution_count": 26,
   "metadata": {},
   "outputs": [],
   "source": [
    "# Defines the PatchGAN discriminator with the specified arguments.\n",
    "class NLayerDiscriminator(nn.Module):\n",
    "    def __init__(self, input_nc, ndf=64, n_layers=3, use_sigmoid=True):\n",
    "        super(NLayerDiscriminator, self).__init__()\n",
    "\n",
    "        kw = 4  #fixed to be 4 -> 70 * 70 patchGan \n",
    "        #require the following parameters (do not change)\n",
    "        padw = int(np.ceil((kw-1)/2))\n",
    "        sequence = [\n",
    "            nn.Conv2d(input_nc, ndf, kernel_size=kw, stride=2, padding=padw),\n",
    "            nn.LeakyReLU(0.2, True)\n",
    "        ]\n",
    "\n",
    "#         nf_mult = 1\n",
    "#         nf_mult_prev = 1\n",
    "        \n",
    "        for i in range(n_layers):\n",
    "            sequence += [\n",
    "                nn.Conv2d(ndf * (2 ** i), ndf * (2 ** (i + 1)), kernel_size = kw, stride = 2, padding = padw),\n",
    "                nn.BatchNorm2d(ndf * (2 ** (i + 1))),\n",
    "                nn.LeakyReLU(0.2, True)\n",
    "            ]\n",
    "        # In order to specify the PatchGan to be 70 * 70, we need to have five layers. (more or less layers are wrong)\n",
    "#         for n in range(1, n_layers):\n",
    "#             nf_mult_prev = nf_mult\n",
    "#             nf_mult = min(2**n, 8)\n",
    "#             sequence += [\n",
    "#                 nn.Conv2d(ndf * nf_mult_prev, ndf * nf_mult,\n",
    "#                                 kernel_size=kw, stride=2, padding=padw),\n",
    "#                 # TODO: use InstanceNorm\n",
    "#                 nn.BatchNorm2d(ndf * nf_mult),\n",
    "#                 nn.LeakyReLU(0.2, True)\n",
    "#             ]       \n",
    "        sequence += [\n",
    "                nn.Conv2d(ndf * (2 ** (n_layers)), ndf * (2 ** (n_layers)),\n",
    "                                kernel_size=kw, stride=2, padding=padw),\n",
    "                # TODO: use InstanceNorm\n",
    "                nn.BatchNorm2d(ndf * (2 ** (n_layers))),\n",
    "                nn.LeakyReLU(0.2, True)\n",
    "        ]\n",
    "#         nf_mult_prev = nf_mult\n",
    "#         nf_mult = min(2**n_layers, 8)\n",
    "#         sequence += [\n",
    "#             nn.Conv2d(ndf * nf_mult_prev, ndf * nf_mult,\n",
    "#                             kernel_size=kw, stride=1, padding=padw),\n",
    "#             # TODO: useInstanceNorm\n",
    "#             nn.BatchNorm2d(ndf * nf_mult),\n",
    "#             nn.LeakyReLU(0.2, True)\n",
    "#         ]\n",
    "\n",
    "        sequence += [nn.Conv2d(ndf * (2 ** (n_layers)), 1, kernel_size=kw, stride=1, padding=padw)]\n",
    "\n",
    "\n",
    "        self.model = nn.Sequential(*sequence)\n",
    "\n",
    "    def forward(self, input):\n",
    "        return self.model(input)"
   ]
  },
  {
   "cell_type": "code",
   "execution_count": null,
   "metadata": {},
   "outputs": [],
   "source": []
  }
 ],
 "metadata": {
  "kernelspec": {
   "display_name": "Python 3",
   "language": "python",
   "name": "python3"
  },
  "language_info": {
   "codemirror_mode": {
    "name": "ipython",
    "version": 3
   },
   "file_extension": ".py",
   "mimetype": "text/x-python",
   "name": "python",
   "nbconvert_exporter": "python",
   "pygments_lexer": "ipython3",
   "version": "3.7.6"
  }
 },
 "nbformat": 4,
 "nbformat_minor": 5
}
