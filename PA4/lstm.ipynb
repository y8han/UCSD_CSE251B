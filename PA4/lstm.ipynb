{
 "cells": [
  {
   "cell_type": "code",
   "execution_count": 3,
   "metadata": {},
   "outputs": [],
   "source": [
    "import torch.nn as nn\n",
    "from torchvision import models\n",
    "from constants import *\n",
    "\n",
    "\n",
    "class ResNetEncoder(nn.Module):\n",
    "    def __init__(self, hidden_size):\n",
    "        self.model = models.resnet50(pretrained=True)\n",
    "        self.fc_in_feature = self.model.fc.in_features\n",
    "        self.model = nn.Sequential(*list(self.model.children())[:-1])\n",
    "        for param in self.model.parameters():\n",
    "            param.requires_grad = False\n",
    "        self.linear = nn.Linear(in_features=self.fc_in_feature, out_features=hidden_size, bias=True)\n",
    "        self.batch_normalize = nn.BatchNorm1d(hidden_size, momentum=0.01)\n",
    "    def foward(self, images):\n",
    "        features = self.resnet(images)\n",
    "        features = features.reshape(features.size(0), -1)\n",
    "        features = self.linear(features)\n",
    "        features = self.batch_normalize(features)\n",
    "        return features\n",
    "    \n",
    "class LSTMDecoder(nn.Module):\n",
    "    def __init__(self, word_embedding_size, hidden_size, dropout, vocab_size):\n",
    "        self.input_size = word_embedding_size\n",
    "        self.hidden_size= hidden_size\n",
    "        self.dropout = dropout\n",
    "        self.vocab_size = vocab_size\n",
    "        self.wordEmbedded = nn.Embedding(vocab_size, embedding_size)\n",
    "        self.linear_Embed2Word = nn.linear(in_features = self.hidden_size, out_features = self.vocab_size, bias = True)\n",
    "        self.lstm = nn.LSTM(self.input_size, self.hidden_size, batch_first=True, dropout=dropout)\n",
    "        #self.softmax = nn.functional.softmax()\n",
    "    def forward(self, captions, features):\n",
    "        # captions are of shape of BatchSize * sequenceLength * 1 => 0 <= n < vacab_size\n",
    "        hc_init = (features, features)\n",
    "        #captions_compact = self.linear_word2Embed(captions)\n",
    "        captions_compact = self.embedding(captions)\n",
    "        lstm_out, hc_out = self.lstm(captions_compact, hc_init)\n",
    "        final = self.linear_Embed2Word(lstm_out)\n",
    "        return final\n",
    "        \n",
    "        \n",
    "class ResLSTM(nn.Module):\n",
    "    def __init__(self, hidden_size, word_embedding_size, dropout, vocab_size):\n",
    "        self.encoder = ResNetEncoder(hidden_size)\n",
    "        self.decoder = LSTMDecoder(word_embedding_size, hidden_size, dropout, vocab_size)        \n",
    "        \n",
    "    def forward(self, images, captions, lengths):\n",
    "        features = self.encoder(images)\n",
    "        final = self.decoder(captions, features)\n",
    "        return final\n",
    "    "
   ]
  },
  {
   "cell_type": "code",
   "execution_count": null,
   "metadata": {},
   "outputs": [],
   "source": []
  }
 ],
 "metadata": {
  "kernelspec": {
   "display_name": "Python 3 (clean)",
   "language": "python",
   "name": "python3_clean"
  },
  "language_info": {
   "codemirror_mode": {
    "name": "ipython",
    "version": 3
   },
   "file_extension": ".py",
   "mimetype": "text/x-python",
   "name": "python",
   "nbconvert_exporter": "python",
   "pygments_lexer": "ipython3",
   "version": "3.7.6"
  }
 },
 "nbformat": 4,
 "nbformat_minor": 4
}
